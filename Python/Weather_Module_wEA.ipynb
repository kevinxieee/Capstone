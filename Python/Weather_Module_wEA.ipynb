{
 "cells": [
  {
   "cell_type": "code",
   "execution_count": 7,
   "metadata": {},
   "outputs": [],
   "source": [
    "import numpy as np\n",
    "import pandas as pd\n",
    "import time\n",
    "from scipy.optimize import minimize"
   ]
  },
  {
   "cell_type": "code",
   "execution_count": 2,
   "metadata": {},
   "outputs": [],
   "source": [
    "## Read in csv file from IESO website, ***fill blank entries with 0*** (temp)\n",
    "data_6months = pd.read_excel(\"SampleWeatherData.xlsx\", index_col=0)\n",
    "data_6months ['Month 1&2'] = data_6months ['Month 1&2'].apply(lambda x: (2.02887*x + 39.633)/100)\n",
    "data_6months ['Month 3&4'] = data_6months ['Month 3&4'].apply(lambda x: (0.453122*x + 19.8276)/100)\n",
    "data_6months ['Month 5&6'] = data_6months ['Month 5&6'].apply(lambda x: (1.13665*x - 11.0085)/100)\n",
    "data_6months ['Month 7&8'] = data_6months ['Month 7&8'].apply(lambda x: (1.90245*x - 23.2826)/100)\n",
    "data_6months ['Month 9&10'] = data_6months ['Month 9&10'].apply(lambda x: (1.39145*x - 8.97971)/100)\n",
    "data_6months ['Month 11&12'] = data_6months ['Month 11&12'].apply(lambda x: (1.72767*x + 21.3536)/100)\n"
   ]
  },
  {
   "cell_type": "code",
   "execution_count": 3,
   "metadata": {},
   "outputs": [],
   "source": [
    "load_data = pd.read_excel('load_data.xlsx', index_col=0)\n"
   ]
  },
  {
   "cell_type": "code",
   "execution_count": 8,
   "metadata": {
    "scrolled": false
   },
   "outputs": [
    {
     "name": "stdout",
     "output_type": "stream",
     "text": [
      "Iteration limit exceeded    (Exit mode 9)\n",
      "            Current function value: 19543.528206449933\n",
      "            Iterations: 151\n",
      "            Function evaluations: 10878\n",
      "            Gradient evaluations: 147\n",
      "Iteration limit exceeded    (Exit mode 9)\n",
      "            Current function value: -226808.2129823804\n",
      "            Iterations: 151\n",
      "            Function evaluations: 10878\n",
      "            Gradient evaluations: 147\n",
      "Positive directional derivative for linesearch    (Exit mode 8)\n",
      "            Current function value: -293158.16687326087\n",
      "            Iterations: 109\n",
      "            Function evaluations: 7770\n",
      "            Gradient evaluations: 105\n",
      "Optimization terminated successfully.    (Exit mode 0)\n",
      "            Current function value: -154531.26232208885\n",
      "            Iterations: 129\n",
      "            Function evaluations: 9250\n",
      "            Gradient evaluations: 125\n",
      "Iteration limit exceeded    (Exit mode 9)\n",
      "            Current function value: -256711.76090023597\n",
      "            Iterations: 151\n",
      "            Function evaluations: 10878\n",
      "            Gradient evaluations: 147\n",
      "Iteration limit exceeded    (Exit mode 9)\n",
      "            Current function value: -86612.36704203434\n",
      "            Iterations: 151\n",
      "            Function evaluations: 10952\n",
      "            Gradient evaluations: 148\n",
      "-998278.2419135505\n",
      "--- 10.915962934494019 seconds ---\n"
     ]
    }
   ],
   "source": [
    "## x[0:24] = PCEA\n",
    "## x[24:48] = ESB\n",
    "## x[48:72] = PCDDR\n",
    "start_time = time.time()\n",
    "\n",
    "def constraint1(x):\n",
    "    for i in range(24):\n",
    "        if (i == 0):\n",
    "            x[24] = 0\n",
    "        else:\n",
    "            x[24+i] = x[24+i-1] + x[i]\n",
    "    return x[0:24] + x[24:48] - x[48:72]\n",
    "    \n",
    "def constraint2(x):\n",
    "    for i in range(24):\n",
    "        if (i == 0):\n",
    "            x[24] = 0\n",
    "        else:\n",
    "            x[24+i] = x[24+i-1] + x[i]\n",
    "    return 10000 - (x[0:24]+ x[24:48]- x[48:72])\n",
    "   \n",
    "    \n",
    "\n",
    "power = ((-5000, 5000),) * 24\n",
    "storage = ((0, 10000),) * 24\n",
    "DDR = ((0,5000),) * 24\n",
    "\n",
    "KRDDR = 856.436/8760\n",
    "\n",
    "##Objective\n",
    "def MEC(x):           #      (    PDLL             +             PCEA     )          x        HOEP\n",
    "    return -(KRDDR*sum(30*sum(np.array([x[48:72]]))) - \\\n",
    "            sum(30*sum((load_data.iloc[:,month].to_numpy() + np.array([x[0:24]])) * data_6months.iloc[:,month].to_numpy())))\n",
    "\n",
    "\n",
    "x0 = np.array([np.ones(24), np.ones(24), np.ones(24)])\n",
    "bounds = (power + storage + DDR)\n",
    "cons1 = {'type': 'ineq', 'fun': constraint1}\n",
    "cons2 = {'type': 'ineq', 'fun': constraint2}\n",
    "\n",
    "cons = ([cons1, cons2])\n",
    "\n",
    "pcea_solutions = []\n",
    "esb_solutions = []\n",
    "pcddr_solutions = []\n",
    "\n",
    "mec = 0\n",
    "for month in range(6):\n",
    "    sol = minimize(MEC, x0, method='SLSQP',\n",
    "                   bounds=bounds,\n",
    "                   constraints=cons,\n",
    "                   options= {'maxiter':150,'disp':True})\n",
    "    pcea_solutions.append(sol.x[0:24])\n",
    "    esb_solutions.append(sol.x[24:48])\n",
    "    pcddr_solutions.append(sol.x[48:72])\n",
    "    mec = mec + sol.fun\n",
    "    \n",
    "print(mec)\n",
    "print(\"--- %s seconds ---\" % (time.time() - start_time))\n"
   ]
  },
  {
   "cell_type": "code",
   "execution_count": null,
   "metadata": {
    "scrolled": true
   },
   "outputs": [],
   "source": [
    "df_sol.columns = load_data.columns.values.tolist() + load_data.columns.values.tolist() + load_data.columns.values.tolist()\n",
    "df_sol"
   ]
  },
  {
   "cell_type": "code",
   "execution_count": null,
   "metadata": {},
   "outputs": [],
   "source": [
    "df_sol = pd.concat([pd.DataFrame(data=pcea_solutions).transpose(), pd.DataFrame(data=esb_solutions).transpose(),\\\n",
    "                    pd.DataFrame(data=pcddr_solutions).transpose()], axis=1)"
   ]
  }
 ],
 "metadata": {
  "kernelspec": {
   "display_name": "Python 3",
   "language": "python",
   "name": "python3"
  },
  "language_info": {
   "codemirror_mode": {
    "name": "ipython",
    "version": 3
   },
   "file_extension": ".py",
   "mimetype": "text/x-python",
   "name": "python",
   "nbconvert_exporter": "python",
   "pygments_lexer": "ipython3",
   "version": "3.8.5"
  }
 },
 "nbformat": 4,
 "nbformat_minor": 2
}
